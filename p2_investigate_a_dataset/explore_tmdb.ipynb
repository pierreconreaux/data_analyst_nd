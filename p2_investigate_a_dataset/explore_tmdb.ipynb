{
 "cells": [
  {
   "cell_type": "markdown",
   "metadata": {},
   "source": [
    "# Is a commercial success the guarantee of a quality movie?"
   ]
  },
  {
   "cell_type": "markdown",
   "metadata": {},
   "source": [
    "<a id='intro'></a>\n",
    "## Introduction\n",
    "\n",
    "Everyone does not have the same expectations when they go to see a movie.\n",
    "\n",
    "Some people go to the movies for entertainment, others to get information and others just want to go out with friends.\n",
    "\n",
    "The evaluation of the quality of a film leads to a multiplicity of opinions.\n",
    "\n",
    "It is therefore not surprising that the quality of a commercially successful film is always debated.\n",
    "\n",
    "Yet one could imagine that a film that is very successful must have the support of the majority of the audience.\n",
    "\n",
    "However, it may be that the commercial achievement is only the consequence of a good trailer, good reviews or an excellent advertising campaign.\n",
    "\n",
    "To propose an answer that is close to objectivity, we will use a database from The Movie Data base (TMDb).\n",
    "\n",
    "TMDb's data includes 10,000 movies, as well as information on budgets, revenues, and the average rating of viewers.\n",
    "\n",
    "*** Thus, we will be able to evaluate if the people have more appreciated the commercial successes or if the great financial performances are not a guarantee of quality. ***"
   ]
  },
  {
   "cell_type": "markdown",
   "metadata": {},
   "source": [
    "## Table of Contents\n",
    "<ul>\n",
    "<li><a href=\"#intro\">Introduction</a></li>\n",
    "<li><a href=\"#wrangling\">Data Wrangling</a></li>\n",
    "<li><a href=\"#eda\">Exploratory Data Analysis</a></li>\n",
    "<li><a href=\"#conclusions\">Conclusions</a></li>\n",
    "</ul>"
   ]
  },
  {
   "cell_type": "code",
   "execution_count": 1,
   "metadata": {
    "collapsed": true
   },
   "outputs": [],
   "source": [
    "# import statements \n",
    "import numpy as np\n",
    "import pandas as pd\n",
    "import matplotlib.pyplot as plt\n",
    "% matplotlib inline\n",
    "import seaborn as sns\n",
    "sns.set_style('darkgrid')"
   ]
  },
  {
   "cell_type": "markdown",
   "metadata": {},
   "source": [
    "<a id='wrangling'></a>\n",
    "## Data Wrangling\n",
    "\n",
    "### General Properties"
   ]
  },
  {
   "cell_type": "code",
   "execution_count": 2,
   "metadata": {},
   "outputs": [
    {
     "data": {
      "text/html": [
       "<div>\n",
       "<style>\n",
       "    .dataframe thead tr:only-child th {\n",
       "        text-align: right;\n",
       "    }\n",
       "\n",
       "    .dataframe thead th {\n",
       "        text-align: left;\n",
       "    }\n",
       "\n",
       "    .dataframe tbody tr th {\n",
       "        vertical-align: top;\n",
       "    }\n",
       "</style>\n",
       "<table border=\"1\" class=\"dataframe\">\n",
       "  <thead>\n",
       "    <tr style=\"text-align: right;\">\n",
       "      <th></th>\n",
       "      <th>id</th>\n",
       "      <th>imdb_id</th>\n",
       "      <th>popularity</th>\n",
       "      <th>budget</th>\n",
       "      <th>revenue</th>\n",
       "      <th>original_title</th>\n",
       "      <th>cast</th>\n",
       "      <th>homepage</th>\n",
       "      <th>director</th>\n",
       "      <th>tagline</th>\n",
       "      <th>...</th>\n",
       "      <th>overview</th>\n",
       "      <th>runtime</th>\n",
       "      <th>genres</th>\n",
       "      <th>production_companies</th>\n",
       "      <th>release_date</th>\n",
       "      <th>vote_count</th>\n",
       "      <th>vote_average</th>\n",
       "      <th>release_year</th>\n",
       "      <th>budget_adj</th>\n",
       "      <th>revenue_adj</th>\n",
       "    </tr>\n",
       "  </thead>\n",
       "  <tbody>\n",
       "    <tr>\n",
       "      <th>0</th>\n",
       "      <td>135397</td>\n",
       "      <td>tt0369610</td>\n",
       "      <td>32.985763</td>\n",
       "      <td>150000000</td>\n",
       "      <td>1513528810</td>\n",
       "      <td>Jurassic World</td>\n",
       "      <td>Chris Pratt|Bryce Dallas Howard|Irrfan Khan|Vi...</td>\n",
       "      <td>http://www.jurassicworld.com/</td>\n",
       "      <td>Colin Trevorrow</td>\n",
       "      <td>The park is open.</td>\n",
       "      <td>...</td>\n",
       "      <td>Twenty-two years after the events of Jurassic ...</td>\n",
       "      <td>124</td>\n",
       "      <td>Action|Adventure|Science Fiction|Thriller</td>\n",
       "      <td>Universal Studios|Amblin Entertainment|Legenda...</td>\n",
       "      <td>6/9/15</td>\n",
       "      <td>5562</td>\n",
       "      <td>6.5</td>\n",
       "      <td>2015</td>\n",
       "      <td>1.379999e+08</td>\n",
       "      <td>1.392446e+09</td>\n",
       "    </tr>\n",
       "    <tr>\n",
       "      <th>1</th>\n",
       "      <td>76341</td>\n",
       "      <td>tt1392190</td>\n",
       "      <td>28.419936</td>\n",
       "      <td>150000000</td>\n",
       "      <td>378436354</td>\n",
       "      <td>Mad Max: Fury Road</td>\n",
       "      <td>Tom Hardy|Charlize Theron|Hugh Keays-Byrne|Nic...</td>\n",
       "      <td>http://www.madmaxmovie.com/</td>\n",
       "      <td>George Miller</td>\n",
       "      <td>What a Lovely Day.</td>\n",
       "      <td>...</td>\n",
       "      <td>An apocalyptic story set in the furthest reach...</td>\n",
       "      <td>120</td>\n",
       "      <td>Action|Adventure|Science Fiction|Thriller</td>\n",
       "      <td>Village Roadshow Pictures|Kennedy Miller Produ...</td>\n",
       "      <td>5/13/15</td>\n",
       "      <td>6185</td>\n",
       "      <td>7.1</td>\n",
       "      <td>2015</td>\n",
       "      <td>1.379999e+08</td>\n",
       "      <td>3.481613e+08</td>\n",
       "    </tr>\n",
       "    <tr>\n",
       "      <th>2</th>\n",
       "      <td>262500</td>\n",
       "      <td>tt2908446</td>\n",
       "      <td>13.112507</td>\n",
       "      <td>110000000</td>\n",
       "      <td>295238201</td>\n",
       "      <td>Insurgent</td>\n",
       "      <td>Shailene Woodley|Theo James|Kate Winslet|Ansel...</td>\n",
       "      <td>http://www.thedivergentseries.movie/#insurgent</td>\n",
       "      <td>Robert Schwentke</td>\n",
       "      <td>One Choice Can Destroy You</td>\n",
       "      <td>...</td>\n",
       "      <td>Beatrice Prior must confront her inner demons ...</td>\n",
       "      <td>119</td>\n",
       "      <td>Adventure|Science Fiction|Thriller</td>\n",
       "      <td>Summit Entertainment|Mandeville Films|Red Wago...</td>\n",
       "      <td>3/18/15</td>\n",
       "      <td>2480</td>\n",
       "      <td>6.3</td>\n",
       "      <td>2015</td>\n",
       "      <td>1.012000e+08</td>\n",
       "      <td>2.716190e+08</td>\n",
       "    </tr>\n",
       "    <tr>\n",
       "      <th>3</th>\n",
       "      <td>140607</td>\n",
       "      <td>tt2488496</td>\n",
       "      <td>11.173104</td>\n",
       "      <td>200000000</td>\n",
       "      <td>2068178225</td>\n",
       "      <td>Star Wars: The Force Awakens</td>\n",
       "      <td>Harrison Ford|Mark Hamill|Carrie Fisher|Adam D...</td>\n",
       "      <td>http://www.starwars.com/films/star-wars-episod...</td>\n",
       "      <td>J.J. Abrams</td>\n",
       "      <td>Every generation has a story.</td>\n",
       "      <td>...</td>\n",
       "      <td>Thirty years after defeating the Galactic Empi...</td>\n",
       "      <td>136</td>\n",
       "      <td>Action|Adventure|Science Fiction|Fantasy</td>\n",
       "      <td>Lucasfilm|Truenorth Productions|Bad Robot</td>\n",
       "      <td>12/15/15</td>\n",
       "      <td>5292</td>\n",
       "      <td>7.5</td>\n",
       "      <td>2015</td>\n",
       "      <td>1.839999e+08</td>\n",
       "      <td>1.902723e+09</td>\n",
       "    </tr>\n",
       "    <tr>\n",
       "      <th>4</th>\n",
       "      <td>168259</td>\n",
       "      <td>tt2820852</td>\n",
       "      <td>9.335014</td>\n",
       "      <td>190000000</td>\n",
       "      <td>1506249360</td>\n",
       "      <td>Furious 7</td>\n",
       "      <td>Vin Diesel|Paul Walker|Jason Statham|Michelle ...</td>\n",
       "      <td>http://www.furious7.com/</td>\n",
       "      <td>James Wan</td>\n",
       "      <td>Vengeance Hits Home</td>\n",
       "      <td>...</td>\n",
       "      <td>Deckard Shaw seeks revenge against Dominic Tor...</td>\n",
       "      <td>137</td>\n",
       "      <td>Action|Crime|Thriller</td>\n",
       "      <td>Universal Pictures|Original Film|Media Rights ...</td>\n",
       "      <td>4/1/15</td>\n",
       "      <td>2947</td>\n",
       "      <td>7.3</td>\n",
       "      <td>2015</td>\n",
       "      <td>1.747999e+08</td>\n",
       "      <td>1.385749e+09</td>\n",
       "    </tr>\n",
       "  </tbody>\n",
       "</table>\n",
       "<p>5 rows × 21 columns</p>\n",
       "</div>"
      ],
      "text/plain": [
       "       id    imdb_id  popularity     budget     revenue  \\\n",
       "0  135397  tt0369610   32.985763  150000000  1513528810   \n",
       "1   76341  tt1392190   28.419936  150000000   378436354   \n",
       "2  262500  tt2908446   13.112507  110000000   295238201   \n",
       "3  140607  tt2488496   11.173104  200000000  2068178225   \n",
       "4  168259  tt2820852    9.335014  190000000  1506249360   \n",
       "\n",
       "                 original_title  \\\n",
       "0                Jurassic World   \n",
       "1            Mad Max: Fury Road   \n",
       "2                     Insurgent   \n",
       "3  Star Wars: The Force Awakens   \n",
       "4                     Furious 7   \n",
       "\n",
       "                                                cast  \\\n",
       "0  Chris Pratt|Bryce Dallas Howard|Irrfan Khan|Vi...   \n",
       "1  Tom Hardy|Charlize Theron|Hugh Keays-Byrne|Nic...   \n",
       "2  Shailene Woodley|Theo James|Kate Winslet|Ansel...   \n",
       "3  Harrison Ford|Mark Hamill|Carrie Fisher|Adam D...   \n",
       "4  Vin Diesel|Paul Walker|Jason Statham|Michelle ...   \n",
       "\n",
       "                                            homepage          director  \\\n",
       "0                      http://www.jurassicworld.com/   Colin Trevorrow   \n",
       "1                        http://www.madmaxmovie.com/     George Miller   \n",
       "2     http://www.thedivergentseries.movie/#insurgent  Robert Schwentke   \n",
       "3  http://www.starwars.com/films/star-wars-episod...       J.J. Abrams   \n",
       "4                           http://www.furious7.com/         James Wan   \n",
       "\n",
       "                         tagline      ...       \\\n",
       "0              The park is open.      ...        \n",
       "1             What a Lovely Day.      ...        \n",
       "2     One Choice Can Destroy You      ...        \n",
       "3  Every generation has a story.      ...        \n",
       "4            Vengeance Hits Home      ...        \n",
       "\n",
       "                                            overview runtime  \\\n",
       "0  Twenty-two years after the events of Jurassic ...     124   \n",
       "1  An apocalyptic story set in the furthest reach...     120   \n",
       "2  Beatrice Prior must confront her inner demons ...     119   \n",
       "3  Thirty years after defeating the Galactic Empi...     136   \n",
       "4  Deckard Shaw seeks revenge against Dominic Tor...     137   \n",
       "\n",
       "                                      genres  \\\n",
       "0  Action|Adventure|Science Fiction|Thriller   \n",
       "1  Action|Adventure|Science Fiction|Thriller   \n",
       "2         Adventure|Science Fiction|Thriller   \n",
       "3   Action|Adventure|Science Fiction|Fantasy   \n",
       "4                      Action|Crime|Thriller   \n",
       "\n",
       "                                production_companies release_date vote_count  \\\n",
       "0  Universal Studios|Amblin Entertainment|Legenda...       6/9/15       5562   \n",
       "1  Village Roadshow Pictures|Kennedy Miller Produ...      5/13/15       6185   \n",
       "2  Summit Entertainment|Mandeville Films|Red Wago...      3/18/15       2480   \n",
       "3          Lucasfilm|Truenorth Productions|Bad Robot     12/15/15       5292   \n",
       "4  Universal Pictures|Original Film|Media Rights ...       4/1/15       2947   \n",
       "\n",
       "   vote_average  release_year    budget_adj   revenue_adj  \n",
       "0           6.5          2015  1.379999e+08  1.392446e+09  \n",
       "1           7.1          2015  1.379999e+08  3.481613e+08  \n",
       "2           6.3          2015  1.012000e+08  2.716190e+08  \n",
       "3           7.5          2015  1.839999e+08  1.902723e+09  \n",
       "4           7.3          2015  1.747999e+08  1.385749e+09  \n",
       "\n",
       "[5 rows x 21 columns]"
      ]
     },
     "execution_count": 2,
     "metadata": {},
     "output_type": "execute_result"
    }
   ],
   "source": [
    "# load data\n",
    "df = pd.read_csv('tmdb-movies-new.csv')\n",
    "\n",
    "#print out a few lines\n",
    "df.head()"
   ]
  },
  {
   "cell_type": "code",
   "execution_count": 3,
   "metadata": {},
   "outputs": [
    {
     "data": {
      "text/plain": [
       "(10866, 21)"
      ]
     },
     "execution_count": 3,
     "metadata": {},
     "output_type": "execute_result"
    }
   ],
   "source": [
    "# return the shape of the DataFrame \n",
    "df.shape"
   ]
  },
  {
   "cell_type": "markdown",
   "metadata": {},
   "source": [
    "It seems that we have more data than expected, our dataframe has 10 886 rows while we expected 10 001 rows.\n",
    "\n",
    "***We need to check that our dataframe does not contain duplicate columns***"
   ]
  },
  {
   "cell_type": "code",
   "execution_count": 4,
   "metadata": {},
   "outputs": [
    {
     "data": {
      "text/plain": [
       "1"
      ]
     },
     "execution_count": 4,
     "metadata": {},
     "output_type": "execute_result"
    }
   ],
   "source": [
    "# return the sum of duplicate rows\n",
    "sum(df.duplicated())"
   ]
  },
  {
   "cell_type": "markdown",
   "metadata": {},
   "source": [
    "We have only one duplicate row.\n",
    "\n",
    "Which does not explain the difference.\n",
    "\n",
    "Maybe some rows are empty or almost empty, to check it ***we will evaluate the null-values of our data set.***"
   ]
  },
  {
   "cell_type": "code",
   "execution_count": 5,
   "metadata": {},
   "outputs": [
    {
     "name": "stdout",
     "output_type": "stream",
     "text": [
      "<class 'pandas.core.frame.DataFrame'>\n",
      "RangeIndex: 10866 entries, 0 to 10865\n",
      "Data columns (total 21 columns):\n",
      "id                      10866 non-null int64\n",
      "imdb_id                 10856 non-null object\n",
      "popularity              10866 non-null float64\n",
      "budget                  10866 non-null int64\n",
      "revenue                 10866 non-null int64\n",
      "original_title          10866 non-null object\n",
      "cast                    10790 non-null object\n",
      "homepage                2936 non-null object\n",
      "director                10822 non-null object\n",
      "tagline                 8042 non-null object\n",
      "keywords                9373 non-null object\n",
      "overview                10862 non-null object\n",
      "runtime                 10866 non-null int64\n",
      "genres                  10843 non-null object\n",
      "production_companies    9836 non-null object\n",
      "release_date            10866 non-null object\n",
      "vote_count              10866 non-null int64\n",
      "vote_average            10866 non-null float64\n",
      "release_year            10866 non-null int64\n",
      "budget_adj              10866 non-null float64\n",
      "revenue_adj             10866 non-null float64\n",
      "dtypes: float64(4), int64(6), object(11)\n",
      "memory usage: 1.7+ MB\n"
     ]
    }
   ],
   "source": [
    "# return information on each columns\n",
    "df.info()"
   ]
  },
  {
   "cell_type": "markdown",
   "metadata": {},
   "source": [
    "The columns needed for our analysis do not contain any 'non-values'.\n",
    "\n",
    "We also note that the data in these columns are in a usable format for our future calculations.\n",
    "\n",
    "Before going any further, we need to make sure that the extra rows are usable, ***we'll check that the columns 'revenue', 'budget' and 'vote_count' do not contain a line equal to zero.***\n",
    "\n",
    "Rows containing a value of zero are not exploitable."
   ]
  },
  {
   "cell_type": "code",
   "execution_count": 6,
   "metadata": {},
   "outputs": [
    {
     "name": "stdout",
     "output_type": "stream",
     "text": [
      "budget :  0 revenue :  0 vote_count :  10\n"
     ]
    }
   ],
   "source": [
    "# to quickly see if we have almost one row equal to 0 we use min()\n",
    "print('budget : ',min(df['budget']), 'revenue : ', min(df['revenue']), 'vote_count : ', min(df['vote_count']))"
   ]
  },
  {
   "cell_type": "markdown",
   "metadata": {
    "collapsed": true
   },
   "source": [
    "Thus, in the columns 'budget' and 'revenue' we have lines equal to 0, so we will have to delete them."
   ]
  },
  {
   "cell_type": "markdown",
   "metadata": {},
   "source": [
    "### Data Cleaning\n",
    "\n",
    "By analysing the general properties of our data set we were able to identify 3 necessary steps to clean the data:\n",
    "\n",
    "*** 1. Drop the duplicate row ***\n",
    "\n",
    "*** 2. Drop the row with a 'budget' equal to zero ***\n",
    "\n",
    "*** 3. Drop the row with a 'revenue' equal to zero ***"
   ]
  },
  {
   "cell_type": "code",
   "execution_count": 7,
   "metadata": {},
   "outputs": [
    {
     "data": {
      "text/plain": [
       "0"
      ]
     },
     "execution_count": 7,
     "metadata": {},
     "output_type": "execute_result"
    }
   ],
   "source": [
    "# drop duplicate row\n",
    "df.drop_duplicates(inplace=True)\n",
    "\n",
    "# confirme suppression, need to be equal to 0\n",
    "sum(df.duplicated())"
   ]
  },
  {
   "cell_type": "code",
   "execution_count": 8,
   "metadata": {
    "collapsed": true
   },
   "outputs": [],
   "source": [
    "# suppress all the row with a budget equal to 0\n",
    "df_c = df[df.budget != 0]\n",
    "\n",
    "# suppress all the row with a revenue equal to 0\n",
    "df_c = df_c[df_c.revenue !=0]"
   ]
  },
  {
   "cell_type": "code",
   "execution_count": 9,
   "metadata": {},
   "outputs": [
    {
     "data": {
      "text/plain": [
       "(3854, 21)"
      ]
     },
     "execution_count": 9,
     "metadata": {},
     "output_type": "execute_result"
    }
   ],
   "source": [
    "# return the shape \n",
    "df_c.shape"
   ]
  },
  {
   "cell_type": "markdown",
   "metadata": {},
   "source": [
    "We thought we had 10,000 usable data, but once the data has been cleaned up, we realize that we only get 3,854 rows.\n",
    "\n",
    "This strongly impacts the credibility of our analysis by reducing the size of our sample.\n",
    "\n",
    "Nevertheless, the analysis of 3,853 films converse a certain interest"
   ]
  },
  {
   "cell_type": "markdown",
   "metadata": {},
   "source": [
    "<a id='eda'></a>\n",
    "## Exploratory Data Analysis\n",
    "\n",
    "To explore the data we must:\n",
    "\n",
    "*** 1. Calculate financial performance ***\n",
    "\n",
    "*** 2. Remove outliers ***\n",
    "\n",
    "*** 3. Observe the distribution ***\n",
    "\n",
    "*** 4. Distinguish different levels of performance ***"
   ]
  },
  {
   "cell_type": "markdown",
   "metadata": {},
   "source": [
    "### 1. Calculate financial performance\n",
    "\n",
    "Financial performance is measured by taking into account expenses and revenues.\n",
    "\n",
    "We can evaluate it through a ratio of revenue and budget columns.\n",
    "\n",
    "A ratio fewer than 1 shows a failure and a ratio greater than 1 represents a success."
   ]
  },
  {
   "cell_type": "code",
   "execution_count": 10,
   "metadata": {},
   "outputs": [
    {
     "data": {
      "text/plain": [
       "Series([], Name: financial_performance, dtype: float64)"
      ]
     },
     "execution_count": 10,
     "metadata": {},
     "output_type": "execute_result"
    }
   ],
   "source": [
    "# create the column financial performance\n",
    "df_c.loc[:, 'financial_performance'] = df_c['revenue']/df_c['budget']\n",
    "\n",
    "# confirm the creation\n",
    "df_c['financial_performance'].head(0)"
   ]
  },
  {
   "cell_type": "markdown",
   "metadata": {},
   "source": [
    "### 2. Remove Outliers\n",
    "\n",
    "\"In statistics, an outlier is an observation point that is distant from other observations.\n",
    "\n",
    "An outlier may be due to variability in the measurement or it may indicate experimental error; the latter are sometimes excluded from the data set. \n",
    "\n",
    "An outlier can cause serious problems in statistical analyses.\" Source Wikipedia https://en.wikipedia.org/wiki/Outlier\"\n",
    "\n",
    "Thus, we need to suppress all outliers."
   ]
  },
  {
   "cell_type": "code",
   "execution_count": 11,
   "metadata": {},
   "outputs": [
    {
     "data": {
      "text/plain": [
       "(3507, 22)"
      ]
     },
     "execution_count": 11,
     "metadata": {},
     "output_type": "execute_result"
    }
   ],
   "source": [
    "# function to supress outlier\n",
    "def cut_the_tail(dataframe, column):\n",
    "    '''\n",
    "    the function take a dataframe and a column as argument \n",
    "    cut the outlier of the dataframe\n",
    "    and return the new dataframe shape\n",
    "    '''\n",
    "    quantile_75 = dataframe[column].quantile(0.75)\n",
    "    quantile_25 = dataframe[column].quantile(0.25)\n",
    "    IQR = quantile_75 - quantile_25\n",
    "    outlier_1 = quantile_25 - 1.5*IQR\n",
    "    outlier_2 = quantile_75 + 1.5*IQR\n",
    "    dataframe = dataframe.loc[((dataframe[column] > outlier_1) & (dataframe[column] < outlier_2))]\n",
    "    return dataframe\n",
    "\n",
    "\n",
    "\n",
    "# apply function to our dataframe\n",
    "df_c = cut_the_tail(df_c,'financial_performance')\n",
    "\n",
    "# confirm modification\n",
    "df_c.shape"
   ]
  },
  {
   "cell_type": "markdown",
   "metadata": {},
   "source": [
    "### 3. Observe the distribution\n",
    "\n",
    "To observe the distribution, first we will create a scatterplot, then we will complete our analysis of the distribution by calling characteristics of the relationship between financial performance and average votes."
   ]
  },
  {
   "cell_type": "code",
   "execution_count": 12,
   "metadata": {},
   "outputs": [
    {
     "data": {
      "text/plain": [
       "<matplotlib.axes._subplots.AxesSubplot at 0x1a126aa5f8>"
      ]
     },
     "execution_count": 12,
     "metadata": {},
     "output_type": "execute_result"
    },
    {
     "data": {
      "image/png": "[encoded data removed]",
      "text/plain": [
       "<matplotlib.figure.Figure at 0x1a1267ba20>"
      ]
     },
     "metadata": {},
     "output_type": "display_data"
    }
   ],
   "source": [
    "# create a scatterplot\n",
    "df_c.plot(x='vote_average',y='financial_performance',title = 'Scatterplot of vote and financial performance',kind='scatter',figsize=(10,10))\n",
    "\n"
   ]
  },
  {
   "cell_type": "markdown",
   "metadata": {},
   "source": [
    "*** The scatterplot does not show a strong relationship. ***\n",
    "We can refine our perception of the relationship between variables using the correlation coefficient."
   ]
  },
  {
   "cell_type": "code",
   "execution_count": 13,
   "metadata": {},
   "outputs": [
    {
     "data": {
      "text/plain": [
       "0.29628074342750466"
      ]
     },
     "execution_count": 13,
     "metadata": {},
     "output_type": "execute_result"
    }
   ],
   "source": [
    "# correlation coefficient \n",
    "df_c['vote_average'].corr(df_c['financial_performance'])"
   ]
  },
  {
   "cell_type": "markdown",
   "metadata": {},
   "source": [
    "We can assume a weak uphill (positive) linear relationship\n",
    "\n",
    "### 4. Distinguish different levels of performance\n",
    "\n",
    "We will distinguish different types of economic performance.\n",
    "\n",
    "This will also allow us to compare the average scores of the different groups.\n",
    "\n",
    "*** We will proceed in 2 times: ***\n",
    "\n",
    "*** a. Define levels of economic performance. ***"
   ]
  },
  {
   "cell_type": "markdown",
   "metadata": {},
   "source": [
    "To define the different levels we will use the quartiles"
   ]
  },
  {
   "cell_type": "code",
   "execution_count": 14,
   "metadata": {
    "scrolled": true
   },
   "outputs": [
    {
     "data": {
      "text/plain": [
       "count    3.507000e+03\n",
       "mean     2.404494e+00\n",
       "std      2.078287e+00\n",
       "min      2.400000e-07\n",
       "25%      7.974869e-01\n",
       "50%      1.882155e+00\n",
       "75%      3.408239e+00\n",
       "max      9.210474e+00\n",
       "Name: financial_performance, dtype: float64"
      ]
     },
     "execution_count": 14,
     "metadata": {},
     "output_type": "execute_result"
    }
   ],
   "source": [
    "# return quartiles with describe\n",
    "df_c['financial_performance'].describe()"
   ]
  },
  {
   "cell_type": "markdown",
   "metadata": {},
   "source": [
    "We define performance levels as follows:\n",
    "- between min and 25% = poor\n",
    "- between 25% and 50% = bad\n",
    "- between 50% and 75% = good\n",
    "- between 75% and max = success"
   ]
  },
  {
   "cell_type": "code",
   "execution_count": 15,
   "metadata": {},
   "outputs": [
    {
     "data": {
      "text/html": [
       "<div>\n",
       "<style>\n",
       "    .dataframe thead tr:only-child th {\n",
       "        text-align: right;\n",
       "    }\n",
       "\n",
       "    .dataframe thead th {\n",
       "        text-align: left;\n",
       "    }\n",
       "\n",
       "    .dataframe tbody tr th {\n",
       "        vertical-align: top;\n",
       "    }\n",
       "</style>\n",
       "<table border=\"1\" class=\"dataframe\">\n",
       "  <thead>\n",
       "    <tr style=\"text-align: right;\">\n",
       "      <th></th>\n",
       "      <th>id</th>\n",
       "      <th>imdb_id</th>\n",
       "      <th>popularity</th>\n",
       "      <th>budget</th>\n",
       "      <th>revenue</th>\n",
       "      <th>original_title</th>\n",
       "      <th>cast</th>\n",
       "      <th>homepage</th>\n",
       "      <th>director</th>\n",
       "      <th>tagline</th>\n",
       "      <th>...</th>\n",
       "      <th>genres</th>\n",
       "      <th>production_companies</th>\n",
       "      <th>release_date</th>\n",
       "      <th>vote_count</th>\n",
       "      <th>vote_average</th>\n",
       "      <th>release_year</th>\n",
       "      <th>budget_adj</th>\n",
       "      <th>revenue_adj</th>\n",
       "      <th>financial_performance</th>\n",
       "      <th>level</th>\n",
       "    </tr>\n",
       "  </thead>\n",
       "  <tbody>\n",
       "  </tbody>\n",
       "</table>\n",
       "<p>0 rows × 23 columns</p>\n",
       "</div>"
      ],
      "text/plain": [
       "Empty DataFrame\n",
       "Columns: [id, imdb_id, popularity, budget, revenue, original_title, cast, homepage, director, tagline, keywords, overview, runtime, genres, production_companies, release_date, vote_count, vote_average, release_year, budget_adj, revenue_adj, financial_performance, level]\n",
       "Index: []\n",
       "\n",
       "[0 rows x 23 columns]"
      ]
     },
     "execution_count": 15,
     "metadata": {},
     "output_type": "execute_result"
    }
   ],
   "source": [
    "# create the column level and evaluate each rows\n",
    "bin_edges = [2.400000e-07,7.974869e-01,1.882155e+00,3.408239e+00,9.210474e+00]\n",
    "bin_names =['poor','bad','good', 'success']\n",
    "df_c['level']=pd.cut(df_c['financial_performance'],bin_edges,labels=bin_names)\n",
    "\n",
    "# confirm column creation\n",
    "df_c.head(0)"
   ]
  },
  {
   "cell_type": "markdown",
   "metadata": {},
   "source": [
    "<a id='conclusions'></a>\n",
    "## Conclusions\n",
    "\n",
    "To answer our question, at first we will compare the average scores obtained according to the different levels of performance.\n",
    "Then, in a second time we will compare the proportion of each note according to the levels of performances."
   ]
  },
  {
   "cell_type": "markdown",
   "metadata": {},
   "source": [
    "### 1. Average rating according to levels"
   ]
  },
  {
   "cell_type": "code",
   "execution_count": 16,
   "metadata": {
    "collapsed": true
   },
   "outputs": [],
   "source": [
    "# select level\n",
    "poor = df_c[df_c['level']=='poor']\n",
    "bad = df_c[df_c['level']=='bad']\n",
    "good = df_c[df_c['level']=='good']\n",
    "success = df_c[df_c['level']=='success']\n",
    "\n"
   ]
  },
  {
   "cell_type": "code",
   "execution_count": 17,
   "metadata": {},
   "outputs": [
    {
     "data": {
      "text/plain": [
       "(5.829566210045663, 6.037514253135689, 6.147488584474886, 6.481870011402507)"
      ]
     },
     "execution_count": 17,
     "metadata": {},
     "output_type": "execute_result"
    }
   ],
   "source": [
    "# mean of each levels\n",
    "poor_m = poor['vote_average'].mean()\n",
    "bad_m = bad['vote_average'].mean()\n",
    "good_m = good['vote_average'].mean()\n",
    "success_m = success['vote_average'].mean()\n",
    "\n",
    "\n",
    "poor_m, bad_m, good_m, success_m"
   ]
  },
  {
   "cell_type": "code",
   "execution_count": 18,
   "metadata": {},
   "outputs": [
    {
     "data": {
      "text/plain": [
       "<matplotlib.text.Text at 0x1a10e1dda0>"
      ]
     },
     "execution_count": 18,
     "metadata": {},
     "output_type": "execute_result"
    },
    {
     "data": {
      "image/png": "[encoded data removed]",
      "text/plain": [
       "<matplotlib.figure.Figure at 0x1a10e6f160>"
      ]
     },
     "metadata": {},
     "output_type": "display_data"
    }
   ],
   "source": [
    "# Create a bar chart\n",
    "locations = [1, 2, 3, 4]\n",
    "heights = [poor_m, bad_m, good_m, success_m]\n",
    "labels = ['Poor', 'Bad', 'Good','Success']\n",
    "plt.bar(locations, heights, tick_label=labels)\n",
    "plt.title('Average Vote Ratings by Financial Performance')\n",
    "plt.xlabel('Level of Performance')\n",
    "plt.ylabel('Average Vote Rating')"
   ]
  },
  {
   "cell_type": "markdown",
   "metadata": {},
   "source": [
    "In our sample, we can observe that the average score increases with the level of success.\n",
    "We also find that the note difference is small.\n",
    "The difference between the lowest and the highest level is only 0.65.\n",
    "The relationship between notes and bugets is positive but weak.\n",
    "\n",
    "We will refine our analysis by comparing the proportion of each grade by level.\n",
    "\n",
    "### 2. Proportion of each grade by level"
   ]
  },
  {
   "cell_type": "code",
   "execution_count": 19,
   "metadata": {
    "collapsed": true
   },
   "outputs": [],
   "source": [
    "#convert vote_average to improve visibility\n",
    "df_c['vote_average'] = df.vote_average.astype(int)"
   ]
  },
  {
   "cell_type": "code",
   "execution_count": 20,
   "metadata": {},
   "outputs": [
    {
     "data": {
      "text/plain": [
       "vote_average\n",
       "2    0.001134\n",
       "3    0.979893\n",
       "4    1.286917\n",
       "5    1.906538\n",
       "6    2.579218\n",
       "7    3.537014\n",
       "8    3.368399\n",
       "Name: financial_performance, dtype: float64"
      ]
     },
     "execution_count": 20,
     "metadata": {},
     "output_type": "execute_result"
    }
   ],
   "source": [
    "# average financial performance for each vote average\n",
    "df_c.groupby('vote_average')['financial_performance'].mean()\n"
   ]
  },
  {
   "cell_type": "code",
   "execution_count": 21,
   "metadata": {},
   "outputs": [
    {
     "data": {
      "text/plain": [
       "level    vote_average\n",
       "poor     2                 1.0\n",
       "         3                14.0\n",
       "         4               110.0\n",
       "         5               347.0\n",
       "         6               348.0\n",
       "         7                55.0\n",
       "         8                 1.0\n",
       "bad      2                 NaN\n",
       "         3                 6.0\n",
       "         4                53.0\n",
       "         5               330.0\n",
       "         6               399.0\n",
       "         7                85.0\n",
       "         8                 4.0\n",
       "good     2                 NaN\n",
       "         3                 4.0\n",
       "         4                40.0\n",
       "         5               293.0\n",
       "         6               416.0\n",
       "         7               123.0\n",
       "         8                 NaN\n",
       "success  2                 NaN\n",
       "         3                 1.0\n",
       "         4                16.0\n",
       "         5               181.0\n",
       "         6               436.0\n",
       "         7               234.0\n",
       "         8                 9.0\n",
       "Name: financial_performance, dtype: float64"
      ]
     },
     "execution_count": 21,
     "metadata": {},
     "output_type": "execute_result"
    }
   ],
   "source": [
    "# get counts for each rating and level\n",
    "level_counts = df_c.groupby(['level', 'vote_average']).count()['financial_performance']\n",
    "level_counts"
   ]
  },
  {
   "cell_type": "code",
   "execution_count": 22,
   "metadata": {
    "collapsed": true
   },
   "outputs": [],
   "source": [
    "# get total counts for each color\n",
    "level_totals = df_c.groupby('level').count()['financial_performance']"
   ]
  },
  {
   "cell_type": "code",
   "execution_count": 23,
   "metadata": {
    "collapsed": true
   },
   "outputs": [],
   "source": [
    "# get proportion\n",
    "poor_proportions = level_counts['poor'] / level_totals['poor']\n",
    "bad_proportions = level_counts['bad'] / level_totals['bad']\n",
    "good_proportions = level_counts['good'] / level_totals['good']\n",
    "success_proportions = level_counts['success'] / level_totals['success']\n"
   ]
  },
  {
   "cell_type": "code",
   "execution_count": 24,
   "metadata": {},
   "outputs": [
    {
     "data": {
      "text/plain": [
       "<matplotlib.legend.Legend at 0x1a112dae10>"
      ]
     },
     "execution_count": 24,
     "metadata": {},
     "output_type": "execute_result"
    },
    {
     "data": {
      "image/png": "[encoded data removed]",
      "text/plain": [
       "<matplotlib.figure.Figure at 0x1a10e93d68>"
      ]
     },
     "metadata": {},
     "output_type": "display_data"
    }
   ],
   "source": [
    "# plot bars\n",
    "\n",
    "ind = np.arange(len(poor_proportions))  # the x locations for the groups\n",
    "width = 0.1       # the width of the bars\n",
    "\n",
    "plt.figure(figsize=(10,10))\n",
    "\n",
    "poor_bars = plt.bar(ind, poor_proportions, width, color='gray', alpha=.7, label='Poor')\n",
    "bad_bars = plt.bar(ind + width, bad_proportions, width, color='red', alpha=.7, label='Bad')\n",
    "good_bars = plt.bar(ind + width*2, good_proportions, width, color='gold', alpha=.7, label='Good')\n",
    "success_bars = plt.bar(ind + width*3, success_proportions, width, color='g', alpha=.7, label='Success')\n",
    "\n",
    "plt.ylabel('Proportion')\n",
    "plt.xlabel('Vote Average')\n",
    "plt.title('Proportion by Levels and Vote Average')\n",
    "locations = ind + width   # xtick locations\n",
    "labels = ['2','3', '4', '5', '6', '7', '8']  # xtick labels\n",
    "plt.xticks(locations, labels)\n",
    "# legend\n",
    "plt.legend()"
   ]
  },
  {
   "cell_type": "markdown",
   "metadata": {},
   "source": [
    "Is a commercial success the guarantee of a quality movie?\n",
    "\n",
    "The exploration of the data shows us that there is a positive link between the quality of a film and its commercial success.\n",
    "\n",
    "However, this link is weak and not always necessary (movies that have experienced a commercial failure may have been appreciated), in our sample.\n",
    "\n",
    "To go further in the analysis, it would be interesting to have a larger sample of data and to categorize the movies.\n",
    "\n",
    "For example, one might try to see if the relationship between commercial success and the appreciation of a film by the general public, evolves according to the popularity of movie genres.\n",
    "\n",
    "#### Limitations of the Data Set \n",
    "\n",
    "Our conclusion is limited for quantitative and qualitative reasons.\n",
    "- Quantitative: the size of our sample is too small to generalize.\n",
    "- Qualitative: the ratings come from TMDb users and is therefore limited to the demographics of platform users."
   ]
  },
  {
   "cell_type": "code",
   "execution_count": 27,
   "metadata": {},
   "outputs": [
    {
     "data": {
      "text/plain": [
       "0"
      ]
     },
     "execution_count": 27,
     "metadata": {},
     "output_type": "execute_result"
    }
   ],
   "source": [
    "from subprocess import call\n",
    "call(['python', '-m', 'nbconvert', 'Investigate_a_Dataset.ipynb'])"
   ]
  }
 ],
 "metadata": {
  "kernelspec": {
   "display_name": "Python [default]",
   "language": "python",
   "name": "python3"
  },
  "language_info": {
   "codemirror_mode": {
    "name": "ipython",
    "version": 3
   },
   "file_extension": ".py",
   "mimetype": "text/x-python",
   "name": "python",
   "nbconvert_exporter": "python",
   "pygments_lexer": "ipython3",
   "version": "3.6.2"
  }
 },
 "nbformat": 4,
 "nbformat_minor": 2
}
